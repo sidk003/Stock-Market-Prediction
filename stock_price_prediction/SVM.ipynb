{
 "metadata": {
  "language_info": {
   "codemirror_mode": {
    "name": "ipython",
    "version": 3
   },
   "file_extension": ".py",
   "mimetype": "text/x-python",
   "name": "python",
   "nbconvert_exporter": "python",
   "pygments_lexer": "ipython3",
   "version": "3.6.5-final"
  },
  "orig_nbformat": 2,
  "kernelspec": {
   "name": "python3",
   "display_name": "Python 3",
   "language": "python"
  }
 },
 "nbformat": 4,
 "nbformat_minor": 2,
 "cells": [
  {
   "cell_type": "code",
   "execution_count": 1,
   "metadata": {},
   "outputs": [],
   "source": [
    "#final runnable code \n",
    "from sklearn.svm import SVR \n",
    "from sklearn.metrics import mean_squared_error\n",
    "from sklearn.metrics import mean_absolute_error\n",
    "import pandas as pd\n",
    "import matplotlib.pyplot as plt\n",
    "import numpy as np"
   ]
  },
  {
   "cell_type": "code",
   "execution_count": 2,
   "metadata": {},
   "outputs": [],
   "source": [
    "amazon = pd.read_csv('./company_stock_prices/AMZN.csv')"
   ]
  },
  {
   "cell_type": "code",
   "execution_count": 3,
   "metadata": {},
   "outputs": [],
   "source": [
    "def SVR_past_Nvalues(data,N):\n",
    "  y_lin_pred=[]\n",
    "  y_poly_pred=[]\n",
    "  y_rbf_pred=[]\n",
    "  index = []\n",
    "  \n",
    "  print(data.shape)\n",
    "  for i in range(N,len(data['Close'])):\n",
    "    index.append(i)\n",
    "    x_train=np.array(range(1,N+1)).reshape(-1,1)\n",
    "    y_train=np.array(data['Close'][i-N:i])\n",
    "    svr_lin  = SVR(kernel='linear', C=1e3)\n",
    "    svr_poly = SVR(kernel='poly', C=1e3, degree=2)\n",
    "    svr_rbf = SVR(kernel='rbf', C=1e3, gamma=0.1)\n",
    "    svr_lin.fit(x_train,y_train)\n",
    "    svr_poly.fit(x_train,y_train)\n",
    "    svr_rbf.fit(x_train,y_train)\n",
    "    predicted_lin=svr_lin.predict(np.array(N+1).reshape(1,-1))[0]\n",
    "    predicted_poly=svr_poly.predict(np.array(N+1).reshape(1,-1))[0]\n",
    "    predicted_rbf=svr_rbf.predict(np.array(N+1).reshape(1,-1))[0]\n",
    "    y_lin_pred.append(predicted_lin)\n",
    "    y_poly_pred.append(predicted_poly)\n",
    "    y_rbf_pred.append(predicted_rbf)\n",
    "  # print(len(y_pred))\n",
    "  return y_lin_pred,y_poly_pred,y_rbf_pred"
   ]
  },
  {
   "cell_type": "code",
   "execution_count": 4,
   "metadata": {},
   "outputs": [],
   "source": [
    "def get_average_precision_score(y_test,y_pred):\n",
    "  aps = average_precision_score(y_test, y_pred)\n",
    "  return aps"
   ]
  },
  {
   "cell_type": "code",
   "execution_count": 5,
   "metadata": {},
   "outputs": [],
   "source": [
    "def SVR_model1(data,N):\n",
    "  pred_lin,pred_poly,pred_rbf=SVR_past_Nvalues(data,N)\n",
    "  finalData=data[N:]\n",
    "  finalData.reset_index(inplace = True, drop = True)\n",
    "  finalData['PredictedClose(Linear)']=pd.DataFrame(pred_lin,columns=['PredictedClose(Linear)'])\n",
    "  finalData['PredictedClose(Poly)']=pd.DataFrame(pred_poly,columns=['PredictedClose(Poly)'])\n",
    "  finalData['PredictedClose(RBF)']=pd.DataFrame(pred_rbf,columns=['PredictedClose(RBF)'])\n",
    "  return finalData"
   ]
  },
  {
   "cell_type": "code",
   "execution_count": 6,
   "metadata": {},
   "outputs": [],
   "source": [
    "def getErrorScores(y_test,y_pred):\n",
    "  mse = mean_squared_error(y_test,y_pred)\n",
    "  # print('Testing Mean Squared Error: %.3f' % error)\n",
    "\n",
    "  rmse = mean_squared_error(y_test, y_pred,squared=False)\n",
    "  # print('Testing Root Mean Squared Error: %.3f' % error)\n",
    "\n",
    "  mae = mean_absolute_error(y_test, y_pred)\n",
    "  # print('Testing Mean absolute Error: %.3f' % error)\n",
    "\n",
    "  r2 = r2_score(y_test, y_pred)\n",
    "  # print('Testing Mean absolute Error: %.3f' % error)\n",
    "\n",
    "\n",
    "  return mse,rmse,mae,r2"
   ]
  },
  {
   "cell_type": "code",
   "execution_count": 7,
   "metadata": {},
   "outputs": [],
   "source": [
    "from sklearn.metrics import r2_score"
   ]
  },
  {
   "cell_type": "code",
   "execution_count": 8,
   "metadata": {},
   "outputs": [],
   "source": [
    "def printErrorScores(test,pred):\n",
    "  mse = mean_squared_error(test,pred)\n",
    "  print('Testing Mean Squared Error: %.3f' % mse)\n",
    "\n",
    "  rmse = mean_squared_error(test, pred,squared=False)\n",
    "  print('Testing Root Mean Squared Error: %.3f' % rmse)\n",
    "\n",
    "  mae = mean_absolute_error(test, pred)\n",
    "  print('Testing Mean absolute Error: %.3f' % mae)\n",
    "\n",
    "  r2 = r2_score(test, pred)\n",
    "  print('Testing r2 score: %.3f' % r2)"
   ]
  },
  {
   "cell_type": "code",
   "execution_count": 9,
   "metadata": {},
   "outputs": [],
   "source": [
    "def splits(data,train_ratio):\n",
    "  train_length = int(len(data) * train_ratio)\n",
    "  train_data = data[0:train_length]\n",
    "  test_data = data[train_length+1:len(data)]\n",
    "  return train_data,test_data"
   ]
  },
  {
   "cell_type": "code",
   "execution_count": 10,
   "metadata": {},
   "outputs": [
    {
     "output_type": "stream",
     "name": "stdout",
     "text": [
      "Amazon 30 days training window\n(377, 7)\n"
     ]
    }
   ],
   "source": [
    "print(\"Amazon 30 days training window\")\n",
    "train_data,test_data=splits(amazon,0.7)\n",
    "final_results_svr=SVR_model1(test_data,30)\n",
    "final_results_svr\n",
    "print('Errors for lienar kernel')\n",
    "printErrorScores(final_results_svr['Close'],final_results_svr['PredictedClose(Linear)'])\n",
    "print('Errors for Poly kernel')\n",
    "printErrorScores(final_results_svr['Close'],final_results_svr['PredictedClose(Poly)'])\n",
    "print('Errors for RBF kernel')\n",
    "printErrorScores(final_results_svr['Close'],final_results_svr['PredictedClose(RBF)'])\n",
    "final_results_svr\n",
    "final_results_svr[['Close', 'PredictedClose(RBF)']].plot(color=['green', 'brown'])"
   ]
  },
  {
   "cell_type": "code",
   "execution_count": null,
   "metadata": {},
   "outputs": [],
   "source": []
  }
 ]
}