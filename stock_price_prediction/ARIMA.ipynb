{
 "metadata": {
  "language_info": {
   "codemirror_mode": {
    "name": "ipython",
    "version": 3
   },
   "file_extension": ".py",
   "mimetype": "text/x-python",
   "name": "python",
   "nbconvert_exporter": "python",
   "pygments_lexer": "ipython3",
   "version": "3.6.5-final"
  },
  "orig_nbformat": 2,
  "kernelspec": {
   "name": "python3",
   "display_name": "Python 3",
   "language": "python"
  }
 },
 "nbformat": 4,
 "nbformat_minor": 2,
 "cells": [
  {
   "cell_type": "code",
   "execution_count": 1,
   "metadata": {},
   "outputs": [],
   "source": [
    "import pandas as pd\n",
    "import matplotlib.pyplot as plt\n",
    "import numpy as np\n",
    "from sklearn import linear_model\n",
    "from sklearn.metrics import mean_squared_error\n",
    "from sklearn.metrics import r2_score"
   ]
  },
  {
   "cell_type": "code",
   "execution_count": 2,
   "metadata": {},
   "outputs": [],
   "source": [
    "plt.rc('figure', figsize=(20, 8.0))\n",
    "#trying yahoo API dataset of Apple\n",
    "\n",
    "amazon = pd.read_csv('./company_stock_prices/AMZN.csv')"
   ]
  },
  {
   "cell_type": "code",
   "execution_count": 3,
   "metadata": {},
   "outputs": [],
   "source": [
    "def splits(data,train_ratio):\n",
    "  train_length = int(len(data) * train_ratio)\n",
    "  train_data = data[0:train_length]\n",
    "  test_data = data[train_length+1:len(data)]\n",
    "  return train_data,test_data"
   ]
  },
  {
   "cell_type": "code",
   "execution_count": 4,
   "metadata": {},
   "outputs": [
    {
     "output_type": "stream",
     "name": "stdout",
     "text": [
      "<class 'list'>\n"
     ]
    }
   ],
   "source": [
    "train_data,test_data=splits(amazon,0.7)\n",
    "test_data.reset_index(inplace = True, drop = True)\n",
    "n_diff = 2\n",
    "train_x_diff = train_data['Close'] - train_data['Close'].shift(n_diff)\n",
    "train_x_diff = train_x_diff[n_diff: ]\n",
    "test_x_diff = test_data['Close'] - test_data['Close'].shift(n_diff)\n",
    "test_x_diff = test_x_diff[n_diff: ]\n",
    "\n",
    "trainDataArr = train_x_diff.values\n",
    "testDataArr = test_x_diff.values\n",
    "from statsmodels.tsa.arima_model import ARIMA\n",
    "history = [x for x in trainDataArr]\n",
    "# history\n",
    "print(type(history))\n",
    "predictions = list()\n",
    "for i in range(len(testDataArr)):\n",
    "    model = ARIMA(history, order=(5,0,1))\n",
    "    model_fit = model.fit(disp=0)\n",
    "    output = model_fit.forecast()\n",
    "    op = output[0]\n",
    "    predictions.append(op)\n",
    "    new = testDataArr[i]\n",
    "    history.append(new)\n",
    "\n",
    "actualValues = test_data\n",
    "predictedValues = pd.DataFrame(predictions,columns=['PredictedDiff'])\n",
    "actualValues['PreviousClose']=actualValues['Close'].shift(n_diff)\n",
    "actualValues=actualValues[n_diff:]\n",
    "actualValues.reset_index(inplace = True, drop = True)\n",
    "actualValues['PredictedDiff']=predictedValues['PredictedDiff']\n",
    "actualValues['PredictedClosePrice']=actualValues['PreviousClose']+actualValues['PredictedDiff']\n",
    "from sklearn.metrics import mean_squared_error\n",
    "from sklearn.metrics import mean_absolute_error\n",
    "\n",
    "error = mean_squared_error(actualValues['Close'], actualValues['PredictedClosePrice'])\n",
    "print('Testing Mean Squared Error: %.3f' % error)\n",
    "\n",
    "error = mean_squared_error(actualValues['Close'], actualValues['PredictedClosePrice'],squared=False)\n",
    "print('Testing Root Mean Squared Error: %.3f' % error)\n",
    "\n",
    "error = mean_absolute_error(actualValues['Close'], actualValues['PredictedClosePrice'])\n",
    "print('Testing Mean absolute Error: %.3f' % error)\n",
    "actualValues\n",
    "actualValues[['Close', 'PredictedClosePrice']].plot(marker='.',color=['green', 'brown'])"
   ]
  },
  {
   "cell_type": "code",
   "execution_count": null,
   "metadata": {},
   "outputs": [],
   "source": []
  }
 ]
}