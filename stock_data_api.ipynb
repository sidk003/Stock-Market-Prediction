{
 "metadata": {
  "language_info": {
   "codemirror_mode": {
    "name": "ipython",
    "version": 3
   },
   "file_extension": ".py",
   "mimetype": "text/x-python",
   "name": "python",
   "nbconvert_exporter": "python",
   "pygments_lexer": "ipython3",
   "version": "3.6.5-final"
  },
  "orig_nbformat": 2,
  "kernelspec": {
   "name": "python3",
   "display_name": "Python 3"
  }
 },
 "nbformat": 4,
 "nbformat_minor": 2,
 "cells": [
  {
   "cell_type": "code",
   "execution_count": 227,
   "metadata": {},
   "outputs": [],
   "source": [
    "# Fetching stock data from tiingo API\n",
    "# retrieving data pogramatically using python\n",
    "# python requests package: python library to make requests\n",
    "# Response: JSON format \n",
    "# API Key: dfeeb56a6c0e72a4c31667b48bfb938fc21c8163\n",
    "# Prediction using linear regression"
   ]
  },
  {
   "cell_type": "code",
   "execution_count": 228,
   "metadata": {},
   "outputs": [],
   "source": [
    "import requests"
   ]
  },
  {
   "cell_type": "code",
   "execution_count": 229,
   "metadata": {},
   "outputs": [],
   "source": [
    "# function for data request\n",
    "def get_stock_data(stock_symbol, start_date, end_date):\n",
    "    base_url = 'https://api.tiingo.com/tiingo/daily/' + stock_symbol + '/prices'\n",
    "    api_key = 'dfeeb56a6c0e72a4c31667b48bfb938fc21c8163'\n",
    "    payload = {\n",
    "        'token': api_key,\n",
    "        'startDate': start_date,\n",
    "        'endDate': end_date\n",
    "    }\n",
    "    # requests library makes URL with base URL and payload on it's own\n",
    "    response = requests.get(base_url, params=payload)\n",
    "    return response "
   ]
  },
  {
   "cell_type": "code",
   "execution_count": 230,
   "metadata": {},
   "outputs": [],
   "source": [
    "# data_response = get_stock_data('AAPL', '2020-9-1', '2020-10-1')\n",
    "# print(data_response.url)\n",
    "# print(data_response.json())"
   ]
  },
  {
   "cell_type": "code",
   "execution_count": 231,
   "metadata": {},
   "outputs": [],
   "source": [
    "# parsing the data\n",
    "# function to get only date, low, high from response\n",
    "def decode_data(response):\n",
    "    json_response = response.json()\n",
    "    dates = []\n",
    "    highs = []\n",
    "    lows = []\n",
    "    closes = []\n",
    "    opens = []\n",
    "    vols = []\n",
    "\n",
    "    for json_object in json_response:\n",
    "        date = json_object['date']\n",
    "        high = json_object['high']\n",
    "        low = json_object['low']\n",
    "        close = json_object['close']\n",
    "        open = json_object['open']\n",
    "        vol = json_object['volume']\n",
    "        \n",
    "        dates.append(date)\n",
    "        highs.append(high)\n",
    "        lows.append(low)\n",
    "        closes.append(close)\n",
    "        opens.append(open)\n",
    "        vols.append(vol)\n",
    "    \n",
    "    return dates, highs, lows, closes, opens, vols"
   ]
  },
  {
   "cell_type": "code",
   "execution_count": 232,
   "metadata": {},
   "outputs": [],
   "source": [
    "# calculate difference\n",
    "def calculate_price_difference(opens, closes):\n",
    "    price_differences = []\n",
    "\n",
    "    for i in range(len(opens) - 1):\n",
    "        if opens[i + 1] >= closes[i]:\n",
    "            price_differences.append([1,0])\n",
    "\n",
    "        else:\n",
    "            price_differences.append([0,1])\n",
    "\n",
    "    return price_differences"
   ]
  },
  {
   "cell_type": "code",
   "execution_count": 233,
   "metadata": {},
   "outputs": [],
   "source": [
    "def create_datasets(stock_symbol, start_date, end_date):\n",
    "    response = get_stock_data(stock_symbol, start_date, end_date)\n",
    "    dates, highs, lows, closes, opens, vols = decode_data(response)\n",
    "\n",
    "    print(response.url)\n",
    "    labels = calculate_price_difference(opens, closes)\n",
    "\n",
    "    inputs = []\n",
    "    for i in range(len(labels)):\n",
    "        inputs.append([closes[i], opens[i], highs[i], lows[i], vols[i]/1000])\n",
    "\n",
    "    return inputs, labels\n"
   ]
  },
  {
   "cell_type": "code",
   "execution_count": 241,
   "metadata": {},
   "outputs": [
    {
     "output_type": "stream",
     "name": "stdout",
     "text": [
      "https://api.tiingo.com/tiingo/daily/AMZN/prices?token=dfeeb56a6c0e72a4c31667b48bfb938fc21c8163&startDate=2019-1-1&endDate=2020-2-1\n",
      "https://api.tiingo.com/tiingo/daily/AMZN/prices?token=dfeeb56a6c0e72a4c31667b48bfb938fc21c8163&startDate=2020-1-1&endDate=2020-2-1\n"
     ]
    }
   ],
   "source": [
    "# 1 year train data\n",
    "x_train, y_train = create_datasets('AMZN', '2019-1-1', '2020-2-1')\n",
    "# one month test data\n",
    "x_test, y_test = create_datasets('AMZN', '2020-1-1', '2020-2-1')"
   ]
  },
  {
   "cell_type": "code",
   "execution_count": 242,
   "metadata": {},
   "outputs": [],
   "source": [
    "# creating model based on Linear regression\n",
    "# [1,0] if the stock goes up\n",
    "# [0,1] if the stock goes down\n",
    "import tensorflow.compat.v1 as tf\n",
    "tf.disable_v2_behavior() "
   ]
  },
  {
   "cell_type": "code",
   "execution_count": 243,
   "metadata": {},
   "outputs": [],
   "source": [
    "# y = Wx + b\n",
    "x_input = tf.placeholder(dtype=tf.float32, shape=[None, 5])\n",
    "y_input = tf.placeholder(dtype=tf.float32, shape=[None, 2])\n",
    "W = tf.Variable(initial_value=tf.ones(shape=[5,2]))\n",
    "b = tf.Variable(initial_value=tf.ones(shape=[2]))\n",
    "y_output = tf.add(tf.matmul(x_input, W), b)"
   ]
  },
  {
   "cell_type": "code",
   "execution_count": 244,
   "metadata": {},
   "outputs": [],
   "source": [
    "loss = tf.reduce_sum(tf.reduce_mean(tf.nn.softmax_cross_entropy_with_logits_v2(labels=y_input, logits=y_output)))\n",
    "optimiser = tf.train.GradientDescentOptimizer(0.01)\n",
    "train_step = optimiser.minimize(loss)"
   ]
  },
  {
   "cell_type": "code",
   "execution_count": 245,
   "metadata": {},
   "outputs": [],
   "source": [
    "# Accuracy measurement\n",
    "def measure_accuracy(actual, expected):\n",
    "    num_correct = 0\n",
    "    for i in range(len(actual)):\n",
    "        actual_value = actual[i]\n",
    "        expected_value = expected[i]\n",
    "        if actual_value[0] >= actual_value[1] and expected_value[0] >= expected_value[1]:\n",
    "            num_correct += 1\n",
    "        elif actual_value[0] <= actual_value[1] and expected_value[0] <= expected_value[1]:\n",
    "            num_correct += 1\n",
    "        \n",
    "    return (num_correct/len(actual))*100"
   ]
  },
  {
   "cell_type": "code",
   "execution_count": 246,
   "metadata": {},
   "outputs": [],
   "source": [
    "# Runnning the model\n",
    "session = tf.Session()\n",
    "session.run(tf.global_variables_initializer())"
   ]
  },
  {
   "cell_type": "code",
   "execution_count": 247,
   "metadata": {},
   "outputs": [
    {
     "output_type": "stream",
     "name": "stdout",
     "text": [
      "70.0\n"
     ]
    }
   ],
   "source": [
    "for _ in range(30000):\n",
    "    session.run(train_step, feed_dict={x_input: x_train,y_input: y_train})\n",
    "print(measure_accuracy(session.run(y_output,feed_dict={x_input: x_test}),y_test))"
   ]
  },
  {
   "cell_type": "code",
   "execution_count": null,
   "metadata": {},
   "outputs": [],
   "source": []
  }
 ]
}