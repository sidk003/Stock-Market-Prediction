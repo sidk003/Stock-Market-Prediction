{
 "metadata": {
  "language_info": {
   "codemirror_mode": {
    "name": "ipython",
    "version": 3
   },
   "file_extension": ".py",
   "mimetype": "text/x-python",
   "name": "python",
   "nbconvert_exporter": "python",
   "pygments_lexer": "ipython3",
   "version": "3.6.5-final"
  },
  "orig_nbformat": 2,
  "kernelspec": {
   "name": "python3",
   "display_name": "Python 3"
  }
 },
 "nbformat": 4,
 "nbformat_minor": 2,
 "cells": [
  {
   "cell_type": "code",
   "execution_count": 10,
   "metadata": {},
   "outputs": [
    {
     "output_type": "stream",
     "name": "stdout",
     "text": [
      "WARNING:tensorflow:From C:\\Users\\USER\\AppData\\Roaming\\Python\\Python36\\site-packages\\tensorflow\\python\\compat\\v2_compat.py:96: disable_resource_variables (from tensorflow.python.ops.variable_scope) is deprecated and will be removed in a future version.\nInstructions for updating:\nnon-resource variables are not supported in the long term\n"
     ]
    }
   ],
   "source": [
    "# Tensorflow\n",
    "import tensorflow.compat.v1 as tf\n",
    "tf.disable_v2_behavior() "
   ]
  },
  {
   "cell_type": "code",
   "execution_count": 11,
   "metadata": {},
   "outputs": [
    {
     "output_type": "stream",
     "name": "stdout",
     "text": [
      "Tensor(\"const_1:0\", shape=(1,), dtype=float32)\n"
     ]
    }
   ],
   "source": [
    "const_1 = tf.constant(value=[5.0],dtype=tf.float32,shape=(1,),name='const_1')\n",
    "print(const_1)"
   ]
  },
  {
   "cell_type": "code",
   "execution_count": 12,
   "metadata": {},
   "outputs": [
    {
     "output_type": "stream",
     "name": "stdout",
     "text": [
      "<tf.Variable 'var_1:0' shape=(1,) dtype=float32_ref>\n"
     ]
    }
   ],
   "source": [
    "var_1 = tf.Variable(initial_value=[1.0], \n",
    "        trainable=True, \n",
    "        caching_device=None,\n",
    "        validate_shape=True, \n",
    "        name='var_1',                \n",
    "        variable_def=None, \n",
    "        dtype=tf.float32,\n",
    "        import_scope=None,\n",
    "        shape=(1,))\n",
    "\n",
    "print(var_1)"
   ]
  },
  {
   "cell_type": "code",
   "execution_count": 13,
   "metadata": {},
   "outputs": [
    {
     "output_type": "stream",
     "name": "stdout",
     "text": [
      "Tensor(\"placeholder_1:0\", shape=(1,), dtype=float32)\n"
     ]
    }
   ],
   "source": [
    "# placeholder ==> for giving i/p\n",
    "placeholder_1 = tf.placeholder(dtype= tf.float32 ,shape=(1,),name='placeholder_1')\n",
    "print(placeholder_1)"
   ]
  },
  {
   "cell_type": "code",
   "execution_count": null,
   "metadata": {},
   "outputs": [],
   "source": []
  }
 ]
}