{
 "metadata": {
  "language_info": {
   "codemirror_mode": {
    "name": "ipython",
    "version": 3
   },
   "file_extension": ".py",
   "mimetype": "text/x-python",
   "name": "python",
   "nbconvert_exporter": "python",
   "pygments_lexer": "ipython3",
   "version": "3.6.5-final"
  },
  "orig_nbformat": 2,
  "kernelspec": {
   "name": "python3",
   "display_name": "Python 3.6.5 64-bit ('USER': virtualenv)",
   "metadata": {
    "interpreter": {
     "hash": "e0b7f66d09d45284e94658f64bfaba99e511f6daa66ef9010f4ee9fe6838198a"
    }
   }
  }
 },
 "nbformat": 4,
 "nbformat_minor": 2,
 "cells": [
  {
   "cell_type": "code",
   "execution_count": 2,
   "metadata": {},
   "outputs": [],
   "source": [
    "#basic revision of python"
   ]
  },
  {
   "cell_type": "code",
   "execution_count": 1,
   "metadata": {},
   "outputs": [],
   "source": [
    "# if statement\n",
    "stock_price = 120\n",
    "answer = \"\"\n",
    "\n",
    "if stock_price <= 150:\n",
    "    answer = \"buy\"\n",
    "\n",
    "else:\n",
    "    answer = \"sell\"\n"
   ]
  },
  {
   "cell_type": "code",
   "execution_count": 3,
   "metadata": {},
   "outputs": [
    {
     "output_type": "stream",
     "name": "stdout",
     "text": [
      "buy\n"
     ]
    }
   ],
   "source": [
    "print(answer)"
   ]
  },
  {
   "cell_type": "code",
   "execution_count": 4,
   "metadata": {},
   "outputs": [
    {
     "output_type": "stream",
     "name": "stdout",
     "text": [
      "you have 25 left\nyou have 20 left\nyou have 15 left\nyou have 10 left\nyou have 5 left\n"
     ]
    }
   ],
   "source": [
    "#while loop \n",
    "batch_size = 5\n",
    "no_of_shares = 25\n",
    "\n",
    "while no_of_shares > 0:\n",
    "    print(f\"you have {no_of_shares} left\")\n",
    "    no_of_shares -= batch_size   "
   ]
  },
  {
   "cell_type": "code",
   "execution_count": 5,
   "metadata": {},
   "outputs": [],
   "source": [
    "#function call\n",
    "no_of_shares = 5\n",
    "def increment_shares():\n",
    "    global no_of_shares\n",
    "    no_of_shares += 1\n",
    "    print(no_of_shares)\n"
   ]
  },
  {
   "cell_type": "code",
   "execution_count": 6,
   "metadata": {},
   "outputs": [
    {
     "output_type": "stream",
     "name": "stdout",
     "text": [
      "6\n"
     ]
    }
   ],
   "source": [
    "increment_shares()"
   ]
  },
  {
   "cell_type": "code",
   "execution_count": 7,
   "metadata": {},
   "outputs": [],
   "source": [
    "# Numpy revision\n",
    "import numpy as np"
   ]
  },
  {
   "cell_type": "code",
   "execution_count": 8,
   "metadata": {},
   "outputs": [],
   "source": [
    "my_array = np.arange(10)"
   ]
  },
  {
   "cell_type": "code",
   "execution_count": 9,
   "metadata": {},
   "outputs": [
    {
     "output_type": "stream",
     "name": "stdout",
     "text": [
      "[0 1 2 3 4 5 6 7 8 9]\n"
     ]
    }
   ],
   "source": [
    "print(my_array)"
   ]
  },
  {
   "cell_type": "code",
   "execution_count": 10,
   "metadata": {},
   "outputs": [
    {
     "output_type": "stream",
     "name": "stdout",
     "text": [
      "[0 1 2]\n"
     ]
    }
   ],
   "source": [
    "print(my_array[0:3])"
   ]
  },
  {
   "cell_type": "code",
   "execution_count": 11,
   "metadata": {},
   "outputs": [
    {
     "output_type": "execute_result",
     "data": {
      "text/plain": [
       "4.5"
      ]
     },
     "metadata": {},
     "execution_count": 11
    }
   ],
   "source": [
    "my_array.mean()"
   ]
  },
  {
   "cell_type": "code",
   "execution_count": 32,
   "metadata": {},
   "outputs": [
    {
     "output_type": "execute_result",
     "data": {
      "text/plain": [
       "10"
      ]
     },
     "metadata": {},
     "execution_count": 32
    }
   ],
   "source": [
    "my_array.size\n",
    "# size() won't work"
   ]
  },
  {
   "cell_type": "code",
   "execution_count": 12,
   "metadata": {},
   "outputs": [
    {
     "output_type": "execute_result",
     "data": {
      "text/plain": [
       "dtype('int32')"
      ]
     },
     "metadata": {},
     "execution_count": 12
    }
   ],
   "source": [
    "my_array.dtype"
   ]
  },
  {
   "cell_type": "code",
   "execution_count": 13,
   "metadata": {},
   "outputs": [],
   "source": [
    "my_array.sort(kind=\"quicksort\")"
   ]
  },
  {
   "cell_type": "code",
   "execution_count": 14,
   "metadata": {},
   "outputs": [],
   "source": [
    "# Pandas revision\n",
    "import pandas as pd"
   ]
  },
  {
   "cell_type": "code",
   "execution_count": 15,
   "metadata": {},
   "outputs": [],
   "source": [
    "stock_data = pd.Series({'AAPL':200,'MSFT':150,'GOOG':175})"
   ]
  },
  {
   "cell_type": "code",
   "execution_count": 16,
   "metadata": {},
   "outputs": [
    {
     "output_type": "execute_result",
     "data": {
      "text/plain": [
       "AAPL    200\n",
       "MSFT    150\n",
       "GOOG    175\n",
       "dtype: int64"
      ]
     },
     "metadata": {},
     "execution_count": 16
    }
   ],
   "source": [
    "stock_data"
   ]
  },
  {
   "cell_type": "code",
   "execution_count": 17,
   "metadata": {},
   "outputs": [],
   "source": [
    "# pandas dataframes\n",
    "open_prices = pd.Series([100, 200, 150], index=['Jan','Feb','Mar'])\n",
    "close_prices = pd.Series([200, 300, 300], index=['Jan','Feb','Mar'])"
   ]
  },
  {
   "cell_type": "code",
   "execution_count": 18,
   "metadata": {},
   "outputs": [
    {
     "output_type": "execute_result",
     "data": {
      "text/plain": [
       "Jan    100\n",
       "Feb    200\n",
       "Mar    150\n",
       "dtype: int64"
      ]
     },
     "metadata": {},
     "execution_count": 18
    }
   ],
   "source": [
    "open_prices"
   ]
  },
  {
   "cell_type": "code",
   "execution_count": 19,
   "metadata": {},
   "outputs": [],
   "source": [
    "stock_dataframe = pd.DataFrame({'Open': open_prices, 'Close': close_prices })\n"
   ]
  },
  {
   "cell_type": "code",
   "execution_count": 20,
   "metadata": {},
   "outputs": [
    {
     "output_type": "execute_result",
     "data": {
      "text/plain": [
       "     Open  Close\n",
       "Jan   100    200\n",
       "Feb   200    300\n",
       "Mar   150    300"
      ],
      "text/html": "<div>\n<style scoped>\n    .dataframe tbody tr th:only-of-type {\n        vertical-align: middle;\n    }\n\n    .dataframe tbody tr th {\n        vertical-align: top;\n    }\n\n    .dataframe thead th {\n        text-align: right;\n    }\n</style>\n<table border=\"1\" class=\"dataframe\">\n  <thead>\n    <tr style=\"text-align: right;\">\n      <th></th>\n      <th>Open</th>\n      <th>Close</th>\n    </tr>\n  </thead>\n  <tbody>\n    <tr>\n      <th>Jan</th>\n      <td>100</td>\n      <td>200</td>\n    </tr>\n    <tr>\n      <th>Feb</th>\n      <td>200</td>\n      <td>300</td>\n    </tr>\n    <tr>\n      <th>Mar</th>\n      <td>150</td>\n      <td>300</td>\n    </tr>\n  </tbody>\n</table>\n</div>"
     },
     "metadata": {},
     "execution_count": 20
    }
   ],
   "source": [
    "stock_dataframe"
   ]
  },
  {
   "cell_type": "code",
   "execution_count": 21,
   "metadata": {},
   "outputs": [],
   "source": [
    "# csv file in same folder as this jupyter notebook\n",
    "apple_stock_data = pd.read_csv('aapl_data.csv')\n"
   ]
  },
  {
   "cell_type": "code",
   "execution_count": 45,
   "metadata": {},
   "outputs": [
    {
     "output_type": "execute_result",
     "data": {
      "text/plain": [
       "            Date  Close/Last     Volume       Open       High         Low\n",
       "0     02/28/2020     $273.36  106721200    $257.26    $278.41     $256.37\n",
       "1     02/27/2020     $273.52   80151380     $281.1       $286     $272.96\n",
       "2     02/26/2020     $292.65   49678430    $286.53    $297.88      $286.5\n",
       "3     02/25/2020     $288.08   57668360    $300.95    $302.53     $286.13\n",
       "4     02/24/2020     $298.18   55548830    $297.26    $304.18     $289.23\n",
       "5     02/21/2020     $313.05   32426420    $318.62    $320.45      $310.5\n",
       "6     02/20/2020      $320.3   25141490    $322.63    $324.65     $318.21\n",
       "7     02/19/2020     $323.62   23495990       $320    $324.57        $320\n",
       "8     02/18/2020        $319   38190550    $315.36    $319.75     $314.61\n",
       "9     02/14/2020     $324.95   20028450    $324.74    $325.98     $322.85\n",
       "10    02/13/2020     $324.87   23686890    $324.19    $326.22     $323.35\n",
       "11    02/12/2020      $327.2   28432570    $321.47    $327.22     $321.47\n",
       "12    02/11/2020     $319.61   23580780     $323.6     $323.9     $318.71\n",
       "13    02/10/2020     $321.55   27337220    $314.18    $321.55     $313.85\n",
       "14    02/07/2020     $320.03   29421010    $322.37     $323.4        $318\n",
       "15    02/06/2020     $325.21   26356390    $322.57    $325.22   $320.2648\n",
       "16    02/05/2020     $321.45   29706720    $323.52    $324.76     $318.95\n",
       "17    02/04/2020     $318.85   34154130    $315.31    $319.64   $313.6345\n",
       "18    02/03/2020     $308.66   43496400     $304.3    $313.49     $302.22\n",
       "19    01/31/2020     $309.51   49897100    $320.93    $322.68     $308.29\n",
       "20    01/30/2020     $323.87   31685810   $320.544    $324.09     $318.75\n",
       "21    01/29/2020     $324.34   54149930    $324.45    $327.85     $321.38\n",
       "22    01/28/2020     $317.69   40558490     $312.6     $318.4     $312.19\n",
       "23    01/27/2020     $308.95   40485010    $310.06    $311.77     $304.88\n",
       "24    01/24/2020     $318.31   36634380    $320.25    $323.33   $317.5188\n",
       "25    01/23/2020     $319.23   26117990    $317.92    $319.56     $315.65\n",
       "26    01/22/2020      $317.7   25458120    $318.58    $319.99     $317.31\n",
       "27    01/21/2020     $316.57   27710810    $317.19    $319.02        $316\n",
       "28    01/17/2020     $318.73   34454120    $316.27    $318.74        $315\n",
       "29    01/16/2020     $315.24   27207250    $313.59     $315.7     $312.09\n",
       "...          ...         ...        ...        ...        ...         ...\n",
       "2488  04/12/2010    $34.6128   83236885      $34.6   $34.7243    $34.5443\n",
       "2489  04/09/2010    $34.5414   83443105     $34.49   $34.5557    $34.3514\n",
       "2490  04/08/2010    $34.2786  142899723   $34.3486   $34.5057    $34.0057\n",
       "2491  04/07/2010    $34.3714  156909177   $34.2457     $34.56    $34.0943\n",
       "2492  04/06/2010      $34.22  111431983   $34.0286     $34.32    $33.8571\n",
       "2493  04/05/2010      $34.07  170363601   $33.5678   $34.0728    $33.5386\n",
       "2494  04/01/2010      $33.71  150568295   $33.9271   $34.1043      $33.25\n",
       "2495  03/31/2010    $33.5714  107438412   $33.6414   $33.8014    $33.4943\n",
       "2496  03/30/2010    $33.6921  131326339   $33.8004   $33.9257    $33.4643\n",
       "2497  03/29/2010    $33.1986  130887089   $33.2857     $33.41    $33.0886\n",
       "2498  03/26/2010    $32.9857  159986658   $32.7071   $33.1357      $32.65\n",
       "2499  03/25/2010    $32.3786  135463131   $32.9886   $32.9957    $32.3214\n",
       "2500  03/24/2010    $32.7671  149419805     $32.52   $32.8857    $32.5014\n",
       "2501  03/23/2010    $32.6228  150384825   $32.2343   $32.6828    $32.0143\n",
       "2502  03/22/2010    $32.1071  113828294   $31.4957   $32.2857      $31.45\n",
       "2503  03/19/2010      $31.75  139669082   $32.1128   $32.1771    $31.6043\n",
       "2504  03/18/2010    $32.0928   85156076   $32.0143   $32.1428    $31.8014\n",
       "2505  03/17/2010    $32.0171  112501374   $32.1286     $32.35    $31.8957\n",
       "2506  03/16/2010    $32.0643  111581993   $32.0257     $32.14    $31.7871\n",
       "2507  03/15/2010    $31.9771  123005437   $32.1971   $32.2143    $31.4643\n",
       "2508  03/12/2010    $32.3714  103841951   $32.4814   $32.5328      $32.25\n",
       "2509  03/11/2010    $32.2143  101209110   $31.9871   $32.2143    $31.9028\n",
       "2510  03/10/2010      $32.12  148907755   $31.9757   $32.2114    $31.8857\n",
       "2511  03/09/2010      $31.86  229908139   $31.1871   $32.1428    $31.1271\n",
       "2512  03/08/2010    $31.2971  107326832     $31.43   $31.4414    $31.1786\n",
       "2513  03/05/2010    $31.2786  224647427   $30.7057   $31.3857    $30.6614\n",
       "2514  03/04/2010    $30.1014   89591907   $29.8971   $30.1314    $29.8043\n",
       "2515  03/03/2010    $29.9043   92846488   $29.8486   $29.9814    $29.7057\n",
       "2516  03/02/2010    $29.8357  141486282     $29.99   $30.1186    $29.6771\n",
       "2517  03/01/2010    $29.8557  137312041   $29.3928   $29.9286      $29.35\n",
       "\n",
       "[2518 rows x 6 columns]"
      ],
      "text/html": "<div>\n<style scoped>\n    .dataframe tbody tr th:only-of-type {\n        vertical-align: middle;\n    }\n\n    .dataframe tbody tr th {\n        vertical-align: top;\n    }\n\n    .dataframe thead th {\n        text-align: right;\n    }\n</style>\n<table border=\"1\" class=\"dataframe\">\n  <thead>\n    <tr style=\"text-align: right;\">\n      <th></th>\n      <th>Date</th>\n      <th>Close/Last</th>\n      <th>Volume</th>\n      <th>Open</th>\n      <th>High</th>\n      <th>Low</th>\n    </tr>\n  </thead>\n  <tbody>\n    <tr>\n      <th>0</th>\n      <td>02/28/2020</td>\n      <td>$273.36</td>\n      <td>106721200</td>\n      <td>$257.26</td>\n      <td>$278.41</td>\n      <td>$256.37</td>\n    </tr>\n    <tr>\n      <th>1</th>\n      <td>02/27/2020</td>\n      <td>$273.52</td>\n      <td>80151380</td>\n      <td>$281.1</td>\n      <td>$286</td>\n      <td>$272.96</td>\n    </tr>\n    <tr>\n      <th>2</th>\n      <td>02/26/2020</td>\n      <td>$292.65</td>\n      <td>49678430</td>\n      <td>$286.53</td>\n      <td>$297.88</td>\n      <td>$286.5</td>\n    </tr>\n    <tr>\n      <th>3</th>\n      <td>02/25/2020</td>\n      <td>$288.08</td>\n      <td>57668360</td>\n      <td>$300.95</td>\n      <td>$302.53</td>\n      <td>$286.13</td>\n    </tr>\n    <tr>\n      <th>4</th>\n      <td>02/24/2020</td>\n      <td>$298.18</td>\n      <td>55548830</td>\n      <td>$297.26</td>\n      <td>$304.18</td>\n      <td>$289.23</td>\n    </tr>\n    <tr>\n      <th>5</th>\n      <td>02/21/2020</td>\n      <td>$313.05</td>\n      <td>32426420</td>\n      <td>$318.62</td>\n      <td>$320.45</td>\n      <td>$310.5</td>\n    </tr>\n    <tr>\n      <th>6</th>\n      <td>02/20/2020</td>\n      <td>$320.3</td>\n      <td>25141490</td>\n      <td>$322.63</td>\n      <td>$324.65</td>\n      <td>$318.21</td>\n    </tr>\n    <tr>\n      <th>7</th>\n      <td>02/19/2020</td>\n      <td>$323.62</td>\n      <td>23495990</td>\n      <td>$320</td>\n      <td>$324.57</td>\n      <td>$320</td>\n    </tr>\n    <tr>\n      <th>8</th>\n      <td>02/18/2020</td>\n      <td>$319</td>\n      <td>38190550</td>\n      <td>$315.36</td>\n      <td>$319.75</td>\n      <td>$314.61</td>\n    </tr>\n    <tr>\n      <th>9</th>\n      <td>02/14/2020</td>\n      <td>$324.95</td>\n      <td>20028450</td>\n      <td>$324.74</td>\n      <td>$325.98</td>\n      <td>$322.85</td>\n    </tr>\n    <tr>\n      <th>10</th>\n      <td>02/13/2020</td>\n      <td>$324.87</td>\n      <td>23686890</td>\n      <td>$324.19</td>\n      <td>$326.22</td>\n      <td>$323.35</td>\n    </tr>\n    <tr>\n      <th>11</th>\n      <td>02/12/2020</td>\n      <td>$327.2</td>\n      <td>28432570</td>\n      <td>$321.47</td>\n      <td>$327.22</td>\n      <td>$321.47</td>\n    </tr>\n    <tr>\n      <th>12</th>\n      <td>02/11/2020</td>\n      <td>$319.61</td>\n      <td>23580780</td>\n      <td>$323.6</td>\n      <td>$323.9</td>\n      <td>$318.71</td>\n    </tr>\n    <tr>\n      <th>13</th>\n      <td>02/10/2020</td>\n      <td>$321.55</td>\n      <td>27337220</td>\n      <td>$314.18</td>\n      <td>$321.55</td>\n      <td>$313.85</td>\n    </tr>\n    <tr>\n      <th>14</th>\n      <td>02/07/2020</td>\n      <td>$320.03</td>\n      <td>29421010</td>\n      <td>$322.37</td>\n      <td>$323.4</td>\n      <td>$318</td>\n    </tr>\n    <tr>\n      <th>15</th>\n      <td>02/06/2020</td>\n      <td>$325.21</td>\n      <td>26356390</td>\n      <td>$322.57</td>\n      <td>$325.22</td>\n      <td>$320.2648</td>\n    </tr>\n    <tr>\n      <th>16</th>\n      <td>02/05/2020</td>\n      <td>$321.45</td>\n      <td>29706720</td>\n      <td>$323.52</td>\n      <td>$324.76</td>\n      <td>$318.95</td>\n    </tr>\n    <tr>\n      <th>17</th>\n      <td>02/04/2020</td>\n      <td>$318.85</td>\n      <td>34154130</td>\n      <td>$315.31</td>\n      <td>$319.64</td>\n      <td>$313.6345</td>\n    </tr>\n    <tr>\n      <th>18</th>\n      <td>02/03/2020</td>\n      <td>$308.66</td>\n      <td>43496400</td>\n      <td>$304.3</td>\n      <td>$313.49</td>\n      <td>$302.22</td>\n    </tr>\n    <tr>\n      <th>19</th>\n      <td>01/31/2020</td>\n      <td>$309.51</td>\n      <td>49897100</td>\n      <td>$320.93</td>\n      <td>$322.68</td>\n      <td>$308.29</td>\n    </tr>\n    <tr>\n      <th>20</th>\n      <td>01/30/2020</td>\n      <td>$323.87</td>\n      <td>31685810</td>\n      <td>$320.544</td>\n      <td>$324.09</td>\n      <td>$318.75</td>\n    </tr>\n    <tr>\n      <th>21</th>\n      <td>01/29/2020</td>\n      <td>$324.34</td>\n      <td>54149930</td>\n      <td>$324.45</td>\n      <td>$327.85</td>\n      <td>$321.38</td>\n    </tr>\n    <tr>\n      <th>22</th>\n      <td>01/28/2020</td>\n      <td>$317.69</td>\n      <td>40558490</td>\n      <td>$312.6</td>\n      <td>$318.4</td>\n      <td>$312.19</td>\n    </tr>\n    <tr>\n      <th>23</th>\n      <td>01/27/2020</td>\n      <td>$308.95</td>\n      <td>40485010</td>\n      <td>$310.06</td>\n      <td>$311.77</td>\n      <td>$304.88</td>\n    </tr>\n    <tr>\n      <th>24</th>\n      <td>01/24/2020</td>\n      <td>$318.31</td>\n      <td>36634380</td>\n      <td>$320.25</td>\n      <td>$323.33</td>\n      <td>$317.5188</td>\n    </tr>\n    <tr>\n      <th>25</th>\n      <td>01/23/2020</td>\n      <td>$319.23</td>\n      <td>26117990</td>\n      <td>$317.92</td>\n      <td>$319.56</td>\n      <td>$315.65</td>\n    </tr>\n    <tr>\n      <th>26</th>\n      <td>01/22/2020</td>\n      <td>$317.7</td>\n      <td>25458120</td>\n      <td>$318.58</td>\n      <td>$319.99</td>\n      <td>$317.31</td>\n    </tr>\n    <tr>\n      <th>27</th>\n      <td>01/21/2020</td>\n      <td>$316.57</td>\n      <td>27710810</td>\n      <td>$317.19</td>\n      <td>$319.02</td>\n      <td>$316</td>\n    </tr>\n    <tr>\n      <th>28</th>\n      <td>01/17/2020</td>\n      <td>$318.73</td>\n      <td>34454120</td>\n      <td>$316.27</td>\n      <td>$318.74</td>\n      <td>$315</td>\n    </tr>\n    <tr>\n      <th>29</th>\n      <td>01/16/2020</td>\n      <td>$315.24</td>\n      <td>27207250</td>\n      <td>$313.59</td>\n      <td>$315.7</td>\n      <td>$312.09</td>\n    </tr>\n    <tr>\n      <th>...</th>\n      <td>...</td>\n      <td>...</td>\n      <td>...</td>\n      <td>...</td>\n      <td>...</td>\n      <td>...</td>\n    </tr>\n    <tr>\n      <th>2488</th>\n      <td>04/12/2010</td>\n      <td>$34.6128</td>\n      <td>83236885</td>\n      <td>$34.6</td>\n      <td>$34.7243</td>\n      <td>$34.5443</td>\n    </tr>\n    <tr>\n      <th>2489</th>\n      <td>04/09/2010</td>\n      <td>$34.5414</td>\n      <td>83443105</td>\n      <td>$34.49</td>\n      <td>$34.5557</td>\n      <td>$34.3514</td>\n    </tr>\n    <tr>\n      <th>2490</th>\n      <td>04/08/2010</td>\n      <td>$34.2786</td>\n      <td>142899723</td>\n      <td>$34.3486</td>\n      <td>$34.5057</td>\n      <td>$34.0057</td>\n    </tr>\n    <tr>\n      <th>2491</th>\n      <td>04/07/2010</td>\n      <td>$34.3714</td>\n      <td>156909177</td>\n      <td>$34.2457</td>\n      <td>$34.56</td>\n      <td>$34.0943</td>\n    </tr>\n    <tr>\n      <th>2492</th>\n      <td>04/06/2010</td>\n      <td>$34.22</td>\n      <td>111431983</td>\n      <td>$34.0286</td>\n      <td>$34.32</td>\n      <td>$33.8571</td>\n    </tr>\n    <tr>\n      <th>2493</th>\n      <td>04/05/2010</td>\n      <td>$34.07</td>\n      <td>170363601</td>\n      <td>$33.5678</td>\n      <td>$34.0728</td>\n      <td>$33.5386</td>\n    </tr>\n    <tr>\n      <th>2494</th>\n      <td>04/01/2010</td>\n      <td>$33.71</td>\n      <td>150568295</td>\n      <td>$33.9271</td>\n      <td>$34.1043</td>\n      <td>$33.25</td>\n    </tr>\n    <tr>\n      <th>2495</th>\n      <td>03/31/2010</td>\n      <td>$33.5714</td>\n      <td>107438412</td>\n      <td>$33.6414</td>\n      <td>$33.8014</td>\n      <td>$33.4943</td>\n    </tr>\n    <tr>\n      <th>2496</th>\n      <td>03/30/2010</td>\n      <td>$33.6921</td>\n      <td>131326339</td>\n      <td>$33.8004</td>\n      <td>$33.9257</td>\n      <td>$33.4643</td>\n    </tr>\n    <tr>\n      <th>2497</th>\n      <td>03/29/2010</td>\n      <td>$33.1986</td>\n      <td>130887089</td>\n      <td>$33.2857</td>\n      <td>$33.41</td>\n      <td>$33.0886</td>\n    </tr>\n    <tr>\n      <th>2498</th>\n      <td>03/26/2010</td>\n      <td>$32.9857</td>\n      <td>159986658</td>\n      <td>$32.7071</td>\n      <td>$33.1357</td>\n      <td>$32.65</td>\n    </tr>\n    <tr>\n      <th>2499</th>\n      <td>03/25/2010</td>\n      <td>$32.3786</td>\n      <td>135463131</td>\n      <td>$32.9886</td>\n      <td>$32.9957</td>\n      <td>$32.3214</td>\n    </tr>\n    <tr>\n      <th>2500</th>\n      <td>03/24/2010</td>\n      <td>$32.7671</td>\n      <td>149419805</td>\n      <td>$32.52</td>\n      <td>$32.8857</td>\n      <td>$32.5014</td>\n    </tr>\n    <tr>\n      <th>2501</th>\n      <td>03/23/2010</td>\n      <td>$32.6228</td>\n      <td>150384825</td>\n      <td>$32.2343</td>\n      <td>$32.6828</td>\n      <td>$32.0143</td>\n    </tr>\n    <tr>\n      <th>2502</th>\n      <td>03/22/2010</td>\n      <td>$32.1071</td>\n      <td>113828294</td>\n      <td>$31.4957</td>\n      <td>$32.2857</td>\n      <td>$31.45</td>\n    </tr>\n    <tr>\n      <th>2503</th>\n      <td>03/19/2010</td>\n      <td>$31.75</td>\n      <td>139669082</td>\n      <td>$32.1128</td>\n      <td>$32.1771</td>\n      <td>$31.6043</td>\n    </tr>\n    <tr>\n      <th>2504</th>\n      <td>03/18/2010</td>\n      <td>$32.0928</td>\n      <td>85156076</td>\n      <td>$32.0143</td>\n      <td>$32.1428</td>\n      <td>$31.8014</td>\n    </tr>\n    <tr>\n      <th>2505</th>\n      <td>03/17/2010</td>\n      <td>$32.0171</td>\n      <td>112501374</td>\n      <td>$32.1286</td>\n      <td>$32.35</td>\n      <td>$31.8957</td>\n    </tr>\n    <tr>\n      <th>2506</th>\n      <td>03/16/2010</td>\n      <td>$32.0643</td>\n      <td>111581993</td>\n      <td>$32.0257</td>\n      <td>$32.14</td>\n      <td>$31.7871</td>\n    </tr>\n    <tr>\n      <th>2507</th>\n      <td>03/15/2010</td>\n      <td>$31.9771</td>\n      <td>123005437</td>\n      <td>$32.1971</td>\n      <td>$32.2143</td>\n      <td>$31.4643</td>\n    </tr>\n    <tr>\n      <th>2508</th>\n      <td>03/12/2010</td>\n      <td>$32.3714</td>\n      <td>103841951</td>\n      <td>$32.4814</td>\n      <td>$32.5328</td>\n      <td>$32.25</td>\n    </tr>\n    <tr>\n      <th>2509</th>\n      <td>03/11/2010</td>\n      <td>$32.2143</td>\n      <td>101209110</td>\n      <td>$31.9871</td>\n      <td>$32.2143</td>\n      <td>$31.9028</td>\n    </tr>\n    <tr>\n      <th>2510</th>\n      <td>03/10/2010</td>\n      <td>$32.12</td>\n      <td>148907755</td>\n      <td>$31.9757</td>\n      <td>$32.2114</td>\n      <td>$31.8857</td>\n    </tr>\n    <tr>\n      <th>2511</th>\n      <td>03/09/2010</td>\n      <td>$31.86</td>\n      <td>229908139</td>\n      <td>$31.1871</td>\n      <td>$32.1428</td>\n      <td>$31.1271</td>\n    </tr>\n    <tr>\n      <th>2512</th>\n      <td>03/08/2010</td>\n      <td>$31.2971</td>\n      <td>107326832</td>\n      <td>$31.43</td>\n      <td>$31.4414</td>\n      <td>$31.1786</td>\n    </tr>\n    <tr>\n      <th>2513</th>\n      <td>03/05/2010</td>\n      <td>$31.2786</td>\n      <td>224647427</td>\n      <td>$30.7057</td>\n      <td>$31.3857</td>\n      <td>$30.6614</td>\n    </tr>\n    <tr>\n      <th>2514</th>\n      <td>03/04/2010</td>\n      <td>$30.1014</td>\n      <td>89591907</td>\n      <td>$29.8971</td>\n      <td>$30.1314</td>\n      <td>$29.8043</td>\n    </tr>\n    <tr>\n      <th>2515</th>\n      <td>03/03/2010</td>\n      <td>$29.9043</td>\n      <td>92846488</td>\n      <td>$29.8486</td>\n      <td>$29.9814</td>\n      <td>$29.7057</td>\n    </tr>\n    <tr>\n      <th>2516</th>\n      <td>03/02/2010</td>\n      <td>$29.8357</td>\n      <td>141486282</td>\n      <td>$29.99</td>\n      <td>$30.1186</td>\n      <td>$29.6771</td>\n    </tr>\n    <tr>\n      <th>2517</th>\n      <td>03/01/2010</td>\n      <td>$29.8557</td>\n      <td>137312041</td>\n      <td>$29.3928</td>\n      <td>$29.9286</td>\n      <td>$29.35</td>\n    </tr>\n  </tbody>\n</table>\n<p>2518 rows × 6 columns</p>\n</div>"
     },
     "metadata": {},
     "execution_count": 45
    }
   ],
   "source": [
    "apple_stock_data"
   ]
  },
  {
   "cell_type": "code",
   "execution_count": 22,
   "metadata": {},
   "outputs": [
    {
     "output_type": "execute_result",
     "data": {
      "text/plain": [
       "         Date  Close/Last     Volume      Open      High       Low\n",
       "0  02/28/2020     $273.36  106721200   $257.26   $278.41   $256.37\n",
       "1  02/27/2020     $273.52   80151380    $281.1      $286   $272.96\n",
       "2  02/26/2020     $292.65   49678430   $286.53   $297.88    $286.5\n",
       "3  02/25/2020     $288.08   57668360   $300.95   $302.53   $286.13\n",
       "4  02/24/2020     $298.18   55548830   $297.26   $304.18   $289.23"
      ],
      "text/html": "<div>\n<style scoped>\n    .dataframe tbody tr th:only-of-type {\n        vertical-align: middle;\n    }\n\n    .dataframe tbody tr th {\n        vertical-align: top;\n    }\n\n    .dataframe thead th {\n        text-align: right;\n    }\n</style>\n<table border=\"1\" class=\"dataframe\">\n  <thead>\n    <tr style=\"text-align: right;\">\n      <th></th>\n      <th>Date</th>\n      <th>Close/Last</th>\n      <th>Volume</th>\n      <th>Open</th>\n      <th>High</th>\n      <th>Low</th>\n    </tr>\n  </thead>\n  <tbody>\n    <tr>\n      <th>0</th>\n      <td>02/28/2020</td>\n      <td>$273.36</td>\n      <td>106721200</td>\n      <td>$257.26</td>\n      <td>$278.41</td>\n      <td>$256.37</td>\n    </tr>\n    <tr>\n      <th>1</th>\n      <td>02/27/2020</td>\n      <td>$273.52</td>\n      <td>80151380</td>\n      <td>$281.1</td>\n      <td>$286</td>\n      <td>$272.96</td>\n    </tr>\n    <tr>\n      <th>2</th>\n      <td>02/26/2020</td>\n      <td>$292.65</td>\n      <td>49678430</td>\n      <td>$286.53</td>\n      <td>$297.88</td>\n      <td>$286.5</td>\n    </tr>\n    <tr>\n      <th>3</th>\n      <td>02/25/2020</td>\n      <td>$288.08</td>\n      <td>57668360</td>\n      <td>$300.95</td>\n      <td>$302.53</td>\n      <td>$286.13</td>\n    </tr>\n    <tr>\n      <th>4</th>\n      <td>02/24/2020</td>\n      <td>$298.18</td>\n      <td>55548830</td>\n      <td>$297.26</td>\n      <td>$304.18</td>\n      <td>$289.23</td>\n    </tr>\n  </tbody>\n</table>\n</div>"
     },
     "metadata": {},
     "execution_count": 22
    }
   ],
   "source": [
    "apple_stock_data.head()"
   ]
  },
  {
   "cell_type": "code",
   "execution_count": 24,
   "metadata": {},
   "outputs": [],
   "source": [
    "# pyplot tutorials\n",
    "import matplotlib.pyplot as plt\n",
    "import pandas as pd"
   ]
  },
  {
   "cell_type": "code",
   "execution_count": 25,
   "metadata": {},
   "outputs": [],
   "source": [
    "apple_stock_data = pd.read_csv('aapl_data.csv')\n"
   ]
  },
  {
   "cell_type": "code",
   "execution_count": 26,
   "metadata": {},
   "outputs": [
    {
     "output_type": "execute_result",
     "data": {
      "text/plain": [
       "         Date  Close/Last     Volume      Open      High       Low\n",
       "0  02/28/2020     $273.36  106721200   $257.26   $278.41   $256.37\n",
       "1  02/27/2020     $273.52   80151380    $281.1      $286   $272.96\n",
       "2  02/26/2020     $292.65   49678430   $286.53   $297.88    $286.5\n",
       "3  02/25/2020     $288.08   57668360   $300.95   $302.53   $286.13\n",
       "4  02/24/2020     $298.18   55548830   $297.26   $304.18   $289.23"
      ],
      "text/html": "<div>\n<style scoped>\n    .dataframe tbody tr th:only-of-type {\n        vertical-align: middle;\n    }\n\n    .dataframe tbody tr th {\n        vertical-align: top;\n    }\n\n    .dataframe thead th {\n        text-align: right;\n    }\n</style>\n<table border=\"1\" class=\"dataframe\">\n  <thead>\n    <tr style=\"text-align: right;\">\n      <th></th>\n      <th>Date</th>\n      <th>Close/Last</th>\n      <th>Volume</th>\n      <th>Open</th>\n      <th>High</th>\n      <th>Low</th>\n    </tr>\n  </thead>\n  <tbody>\n    <tr>\n      <th>0</th>\n      <td>02/28/2020</td>\n      <td>$273.36</td>\n      <td>106721200</td>\n      <td>$257.26</td>\n      <td>$278.41</td>\n      <td>$256.37</td>\n    </tr>\n    <tr>\n      <th>1</th>\n      <td>02/27/2020</td>\n      <td>$273.52</td>\n      <td>80151380</td>\n      <td>$281.1</td>\n      <td>$286</td>\n      <td>$272.96</td>\n    </tr>\n    <tr>\n      <th>2</th>\n      <td>02/26/2020</td>\n      <td>$292.65</td>\n      <td>49678430</td>\n      <td>$286.53</td>\n      <td>$297.88</td>\n      <td>$286.5</td>\n    </tr>\n    <tr>\n      <th>3</th>\n      <td>02/25/2020</td>\n      <td>$288.08</td>\n      <td>57668360</td>\n      <td>$300.95</td>\n      <td>$302.53</td>\n      <td>$286.13</td>\n    </tr>\n    <tr>\n      <th>4</th>\n      <td>02/24/2020</td>\n      <td>$298.18</td>\n      <td>55548830</td>\n      <td>$297.26</td>\n      <td>$304.18</td>\n      <td>$289.23</td>\n    </tr>\n  </tbody>\n</table>\n</div>"
     },
     "metadata": {},
     "execution_count": 26
    }
   ],
   "source": [
    "apple_stock_data.head()"
   ]
  },
  {
   "cell_type": "code",
   "execution_count": 27,
   "metadata": {},
   "outputs": [],
   "source": [
    "dates = apple_stock_data['Date']\n",
    "opens = apple_stock_data[' Open']\n",
    "closes = apple_stock_data[' Close/Last']\n",
    "highs = apple_stock_data[' High']\n",
    "lows = apple_stock_data[' Low']"
   ]
  },
  {
   "cell_type": "code",
   "execution_count": 30,
   "metadata": {},
   "outputs": [],
   "source": [
    "# pandas dataframes\n",
    "open_prices = pd.Series([100, 200, 150], index=['Jan','Feb','Mar'])\n",
    "close_prices = pd.Series([200, 300, 300], index=['Jan','Feb','Mar'])"
   ]
  },
  {
   "cell_type": "code",
   "execution_count": 31,
   "metadata": {},
   "outputs": [],
   "source": [
    "stock_dataframe = pd.DataFrame({'Open': open_prices, 'Close': close_prices })"
   ]
  },
  {
   "cell_type": "code",
   "execution_count": 17,
   "metadata": {},
   "outputs": [
    {
     "output_type": "execute_result",
     "data": {
      "text/plain": [
       "[<matplotlib.lines.Line2D at 0x22309243da0>]"
      ]
     },
     "metadata": {},
     "execution_count": 17
    },
    {
     "output_type": "display_data",
     "data": {
      "text/plain": "<Figure size 432x288 with 1 Axes>",
      "image/svg+xml": "<?xml version=\"1.0\" encoding=\"utf-8\" standalone=\"no\"?>\r\n<!DOCTYPE svg PUBLIC \"-//W3C//DTD SVG 1.1//EN\"\r\n  \"http://www.w3.org/Graphics/SVG/1.1/DTD/svg11.dtd\">\r\n<!-- Created with matplotlib (http://matplotlib.org/) -->\r\n<svg height=\"252.018125pt\" version=\"1.1\" viewBox=\"0 0 378.7875 252.018125\" width=\"378.7875pt\" xmlns=\"http://www.w3.org/2000/svg\" xmlns:xlink=\"http://www.w3.org/1999/xlink\">\r\n <defs>\r\n  <style type=\"text/css\">\r\n*{stroke-linecap:butt;stroke-linejoin:round;}\r\n  </style>\r\n </defs>\r\n <g id=\"figure_1\">\r\n  <g id=\"patch_1\">\r\n   <path d=\"M 0 252.018125 \r\nL 378.7875 252.018125 \r\nL 378.7875 0 \r\nL 0 0 \r\nz\r\n\" style=\"fill:none;\"/>\r\n  </g>\r\n  <g id=\"axes_1\">\r\n   <g id=\"patch_2\">\r\n    <path d=\"M 33.2875 228.14 \r\nL 368.0875 228.14 \r\nL 368.0875 10.7 \r\nL 33.2875 10.7 \r\nz\r\n\" style=\"fill:#ffffff;\"/>\r\n   </g>\r\n   <g id=\"matplotlib.axis_1\">\r\n    <g id=\"xtick_1\">\r\n     <g id=\"line2d_1\">\r\n      <defs>\r\n       <path d=\"M 0 0 \r\nL 0 3.5 \r\n\" id=\"m835ffe1851\" style=\"stroke:#000000;stroke-width:0.8;\"/>\r\n      </defs>\r\n      <g>\r\n       <use style=\"stroke:#000000;stroke-width:0.8;\" x=\"48.505682\" xlink:href=\"#m835ffe1851\" y=\"228.14\"/>\r\n      </g>\r\n     </g>\r\n     <g id=\"text_1\">\r\n      <!-- 100 -->\r\n      <defs>\r\n       <path d=\"M 12.40625 8.296875 \r\nL 28.515625 8.296875 \r\nL 28.515625 63.921875 \r\nL 10.984375 60.40625 \r\nL 10.984375 69.390625 \r\nL 28.421875 72.90625 \r\nL 38.28125 72.90625 \r\nL 38.28125 8.296875 \r\nL 54.390625 8.296875 \r\nL 54.390625 0 \r\nL 12.40625 0 \r\nz\r\n\" id=\"DejaVuSans-31\"/>\r\n       <path d=\"M 31.78125 66.40625 \r\nQ 24.171875 66.40625 20.328125 58.90625 \r\nQ 16.5 51.421875 16.5 36.375 \r\nQ 16.5 21.390625 20.328125 13.890625 \r\nQ 24.171875 6.390625 31.78125 6.390625 \r\nQ 39.453125 6.390625 43.28125 13.890625 \r\nQ 47.125 21.390625 47.125 36.375 \r\nQ 47.125 51.421875 43.28125 58.90625 \r\nQ 39.453125 66.40625 31.78125 66.40625 \r\nz\r\nM 31.78125 74.21875 \r\nQ 44.046875 74.21875 50.515625 64.515625 \r\nQ 56.984375 54.828125 56.984375 36.375 \r\nQ 56.984375 17.96875 50.515625 8.265625 \r\nQ 44.046875 -1.421875 31.78125 -1.421875 \r\nQ 19.53125 -1.421875 13.0625 8.265625 \r\nQ 6.59375 17.96875 6.59375 36.375 \r\nQ 6.59375 54.828125 13.0625 64.515625 \r\nQ 19.53125 74.21875 31.78125 74.21875 \r\nz\r\n\" id=\"DejaVuSans-30\"/>\r\n      </defs>\r\n      <g transform=\"translate(38.961932 242.738437)scale(0.1 -0.1)\">\r\n       <use xlink:href=\"#DejaVuSans-31\"/>\r\n       <use x=\"63.623047\" xlink:href=\"#DejaVuSans-30\"/>\r\n       <use x=\"127.246094\" xlink:href=\"#DejaVuSans-30\"/>\r\n      </g>\r\n     </g>\r\n    </g>\r\n    <g id=\"xtick_2\">\r\n     <g id=\"line2d_2\">\r\n      <g>\r\n       <use style=\"stroke:#000000;stroke-width:0.8;\" x=\"109.378409\" xlink:href=\"#m835ffe1851\" y=\"228.14\"/>\r\n      </g>\r\n     </g>\r\n     <g id=\"text_2\">\r\n      <!-- 120 -->\r\n      <defs>\r\n       <path d=\"M 19.1875 8.296875 \r\nL 53.609375 8.296875 \r\nL 53.609375 0 \r\nL 7.328125 0 \r\nL 7.328125 8.296875 \r\nQ 12.9375 14.109375 22.625 23.890625 \r\nQ 32.328125 33.6875 34.8125 36.53125 \r\nQ 39.546875 41.84375 41.421875 45.53125 \r\nQ 43.3125 49.21875 43.3125 52.78125 \r\nQ 43.3125 58.59375 39.234375 62.25 \r\nQ 35.15625 65.921875 28.609375 65.921875 \r\nQ 23.96875 65.921875 18.8125 64.3125 \r\nQ 13.671875 62.703125 7.8125 59.421875 \r\nL 7.8125 69.390625 \r\nQ 13.765625 71.78125 18.9375 73 \r\nQ 24.125 74.21875 28.421875 74.21875 \r\nQ 39.75 74.21875 46.484375 68.546875 \r\nQ 53.21875 62.890625 53.21875 53.421875 \r\nQ 53.21875 48.921875 51.53125 44.890625 \r\nQ 49.859375 40.875 45.40625 35.40625 \r\nQ 44.1875 33.984375 37.640625 27.21875 \r\nQ 31.109375 20.453125 19.1875 8.296875 \r\nz\r\n\" id=\"DejaVuSans-32\"/>\r\n      </defs>\r\n      <g transform=\"translate(99.834659 242.738437)scale(0.1 -0.1)\">\r\n       <use xlink:href=\"#DejaVuSans-31\"/>\r\n       <use x=\"63.623047\" xlink:href=\"#DejaVuSans-32\"/>\r\n       <use x=\"127.246094\" xlink:href=\"#DejaVuSans-30\"/>\r\n      </g>\r\n     </g>\r\n    </g>\r\n    <g id=\"xtick_3\">\r\n     <g id=\"line2d_3\">\r\n      <g>\r\n       <use style=\"stroke:#000000;stroke-width:0.8;\" x=\"170.251136\" xlink:href=\"#m835ffe1851\" y=\"228.14\"/>\r\n      </g>\r\n     </g>\r\n     <g id=\"text_3\">\r\n      <!-- 140 -->\r\n      <defs>\r\n       <path d=\"M 37.796875 64.3125 \r\nL 12.890625 25.390625 \r\nL 37.796875 25.390625 \r\nz\r\nM 35.203125 72.90625 \r\nL 47.609375 72.90625 \r\nL 47.609375 25.390625 \r\nL 58.015625 25.390625 \r\nL 58.015625 17.1875 \r\nL 47.609375 17.1875 \r\nL 47.609375 0 \r\nL 37.796875 0 \r\nL 37.796875 17.1875 \r\nL 4.890625 17.1875 \r\nL 4.890625 26.703125 \r\nz\r\n\" id=\"DejaVuSans-34\"/>\r\n      </defs>\r\n      <g transform=\"translate(160.707386 242.738437)scale(0.1 -0.1)\">\r\n       <use xlink:href=\"#DejaVuSans-31\"/>\r\n       <use x=\"63.623047\" xlink:href=\"#DejaVuSans-34\"/>\r\n       <use x=\"127.246094\" xlink:href=\"#DejaVuSans-30\"/>\r\n      </g>\r\n     </g>\r\n    </g>\r\n    <g id=\"xtick_4\">\r\n     <g id=\"line2d_4\">\r\n      <g>\r\n       <use style=\"stroke:#000000;stroke-width:0.8;\" x=\"231.123864\" xlink:href=\"#m835ffe1851\" y=\"228.14\"/>\r\n      </g>\r\n     </g>\r\n     <g id=\"text_4\">\r\n      <!-- 160 -->\r\n      <defs>\r\n       <path d=\"M 33.015625 40.375 \r\nQ 26.375 40.375 22.484375 35.828125 \r\nQ 18.609375 31.296875 18.609375 23.390625 \r\nQ 18.609375 15.53125 22.484375 10.953125 \r\nQ 26.375 6.390625 33.015625 6.390625 \r\nQ 39.65625 6.390625 43.53125 10.953125 \r\nQ 47.40625 15.53125 47.40625 23.390625 \r\nQ 47.40625 31.296875 43.53125 35.828125 \r\nQ 39.65625 40.375 33.015625 40.375 \r\nz\r\nM 52.59375 71.296875 \r\nL 52.59375 62.3125 \r\nQ 48.875 64.0625 45.09375 64.984375 \r\nQ 41.3125 65.921875 37.59375 65.921875 \r\nQ 27.828125 65.921875 22.671875 59.328125 \r\nQ 17.53125 52.734375 16.796875 39.40625 \r\nQ 19.671875 43.65625 24.015625 45.921875 \r\nQ 28.375 48.1875 33.59375 48.1875 \r\nQ 44.578125 48.1875 50.953125 41.515625 \r\nQ 57.328125 34.859375 57.328125 23.390625 \r\nQ 57.328125 12.15625 50.6875 5.359375 \r\nQ 44.046875 -1.421875 33.015625 -1.421875 \r\nQ 20.359375 -1.421875 13.671875 8.265625 \r\nQ 6.984375 17.96875 6.984375 36.375 \r\nQ 6.984375 53.65625 15.1875 63.9375 \r\nQ 23.390625 74.21875 37.203125 74.21875 \r\nQ 40.921875 74.21875 44.703125 73.484375 \r\nQ 48.484375 72.75 52.59375 71.296875 \r\nz\r\n\" id=\"DejaVuSans-36\"/>\r\n      </defs>\r\n      <g transform=\"translate(221.580114 242.738437)scale(0.1 -0.1)\">\r\n       <use xlink:href=\"#DejaVuSans-31\"/>\r\n       <use x=\"63.623047\" xlink:href=\"#DejaVuSans-36\"/>\r\n       <use x=\"127.246094\" xlink:href=\"#DejaVuSans-30\"/>\r\n      </g>\r\n     </g>\r\n    </g>\r\n    <g id=\"xtick_5\">\r\n     <g id=\"line2d_5\">\r\n      <g>\r\n       <use style=\"stroke:#000000;stroke-width:0.8;\" x=\"291.996591\" xlink:href=\"#m835ffe1851\" y=\"228.14\"/>\r\n      </g>\r\n     </g>\r\n     <g id=\"text_5\">\r\n      <!-- 180 -->\r\n      <defs>\r\n       <path d=\"M 31.78125 34.625 \r\nQ 24.75 34.625 20.71875 30.859375 \r\nQ 16.703125 27.09375 16.703125 20.515625 \r\nQ 16.703125 13.921875 20.71875 10.15625 \r\nQ 24.75 6.390625 31.78125 6.390625 \r\nQ 38.8125 6.390625 42.859375 10.171875 \r\nQ 46.921875 13.96875 46.921875 20.515625 \r\nQ 46.921875 27.09375 42.890625 30.859375 \r\nQ 38.875 34.625 31.78125 34.625 \r\nz\r\nM 21.921875 38.8125 \r\nQ 15.578125 40.375 12.03125 44.71875 \r\nQ 8.5 49.078125 8.5 55.328125 \r\nQ 8.5 64.0625 14.71875 69.140625 \r\nQ 20.953125 74.21875 31.78125 74.21875 \r\nQ 42.671875 74.21875 48.875 69.140625 \r\nQ 55.078125 64.0625 55.078125 55.328125 \r\nQ 55.078125 49.078125 51.53125 44.71875 \r\nQ 48 40.375 41.703125 38.8125 \r\nQ 48.828125 37.15625 52.796875 32.3125 \r\nQ 56.78125 27.484375 56.78125 20.515625 \r\nQ 56.78125 9.90625 50.3125 4.234375 \r\nQ 43.84375 -1.421875 31.78125 -1.421875 \r\nQ 19.734375 -1.421875 13.25 4.234375 \r\nQ 6.78125 9.90625 6.78125 20.515625 \r\nQ 6.78125 27.484375 10.78125 32.3125 \r\nQ 14.796875 37.15625 21.921875 38.8125 \r\nz\r\nM 18.3125 54.390625 \r\nQ 18.3125 48.734375 21.84375 45.5625 \r\nQ 25.390625 42.390625 31.78125 42.390625 \r\nQ 38.140625 42.390625 41.71875 45.5625 \r\nQ 45.3125 48.734375 45.3125 54.390625 \r\nQ 45.3125 60.0625 41.71875 63.234375 \r\nQ 38.140625 66.40625 31.78125 66.40625 \r\nQ 25.390625 66.40625 21.84375 63.234375 \r\nQ 18.3125 60.0625 18.3125 54.390625 \r\nz\r\n\" id=\"DejaVuSans-38\"/>\r\n      </defs>\r\n      <g transform=\"translate(282.452841 242.738437)scale(0.1 -0.1)\">\r\n       <use xlink:href=\"#DejaVuSans-31\"/>\r\n       <use x=\"63.623047\" xlink:href=\"#DejaVuSans-38\"/>\r\n       <use x=\"127.246094\" xlink:href=\"#DejaVuSans-30\"/>\r\n      </g>\r\n     </g>\r\n    </g>\r\n    <g id=\"xtick_6\">\r\n     <g id=\"line2d_6\">\r\n      <g>\r\n       <use style=\"stroke:#000000;stroke-width:0.8;\" x=\"352.869318\" xlink:href=\"#m835ffe1851\" y=\"228.14\"/>\r\n      </g>\r\n     </g>\r\n     <g id=\"text_6\">\r\n      <!-- 200 -->\r\n      <g transform=\"translate(343.325568 242.738437)scale(0.1 -0.1)\">\r\n       <use xlink:href=\"#DejaVuSans-32\"/>\r\n       <use x=\"63.623047\" xlink:href=\"#DejaVuSans-30\"/>\r\n       <use x=\"127.246094\" xlink:href=\"#DejaVuSans-30\"/>\r\n      </g>\r\n     </g>\r\n    </g>\r\n   </g>\r\n   <g id=\"matplotlib.axis_2\">\r\n    <g id=\"ytick_1\">\r\n     <g id=\"line2d_7\">\r\n      <defs>\r\n       <path d=\"M 0 0 \r\nL -3.5 0 \r\n\" id=\"mf32e9171c8\" style=\"stroke:#000000;stroke-width:0.8;\"/>\r\n      </defs>\r\n      <g>\r\n       <use style=\"stroke:#000000;stroke-width:0.8;\" x=\"33.2875\" xlink:href=\"#mf32e9171c8\" y=\"218.256364\"/>\r\n      </g>\r\n     </g>\r\n     <g id=\"text_7\">\r\n      <!-- 200 -->\r\n      <g transform=\"translate(7.2 222.055582)scale(0.1 -0.1)\">\r\n       <use xlink:href=\"#DejaVuSans-32\"/>\r\n       <use x=\"63.623047\" xlink:href=\"#DejaVuSans-30\"/>\r\n       <use x=\"127.246094\" xlink:href=\"#DejaVuSans-30\"/>\r\n      </g>\r\n     </g>\r\n    </g>\r\n    <g id=\"ytick_2\">\r\n     <g id=\"line2d_8\">\r\n      <g>\r\n       <use style=\"stroke:#000000;stroke-width:0.8;\" x=\"33.2875\" xlink:href=\"#mf32e9171c8\" y=\"178.721818\"/>\r\n      </g>\r\n     </g>\r\n     <g id=\"text_8\">\r\n      <!-- 220 -->\r\n      <g transform=\"translate(7.2 182.521037)scale(0.1 -0.1)\">\r\n       <use xlink:href=\"#DejaVuSans-32\"/>\r\n       <use x=\"63.623047\" xlink:href=\"#DejaVuSans-32\"/>\r\n       <use x=\"127.246094\" xlink:href=\"#DejaVuSans-30\"/>\r\n      </g>\r\n     </g>\r\n    </g>\r\n    <g id=\"ytick_3\">\r\n     <g id=\"line2d_9\">\r\n      <g>\r\n       <use style=\"stroke:#000000;stroke-width:0.8;\" x=\"33.2875\" xlink:href=\"#mf32e9171c8\" y=\"139.187273\"/>\r\n      </g>\r\n     </g>\r\n     <g id=\"text_9\">\r\n      <!-- 240 -->\r\n      <g transform=\"translate(7.2 142.986491)scale(0.1 -0.1)\">\r\n       <use xlink:href=\"#DejaVuSans-32\"/>\r\n       <use x=\"63.623047\" xlink:href=\"#DejaVuSans-34\"/>\r\n       <use x=\"127.246094\" xlink:href=\"#DejaVuSans-30\"/>\r\n      </g>\r\n     </g>\r\n    </g>\r\n    <g id=\"ytick_4\">\r\n     <g id=\"line2d_10\">\r\n      <g>\r\n       <use style=\"stroke:#000000;stroke-width:0.8;\" x=\"33.2875\" xlink:href=\"#mf32e9171c8\" y=\"99.652727\"/>\r\n      </g>\r\n     </g>\r\n     <g id=\"text_10\">\r\n      <!-- 260 -->\r\n      <g transform=\"translate(7.2 103.451946)scale(0.1 -0.1)\">\r\n       <use xlink:href=\"#DejaVuSans-32\"/>\r\n       <use x=\"63.623047\" xlink:href=\"#DejaVuSans-36\"/>\r\n       <use x=\"127.246094\" xlink:href=\"#DejaVuSans-30\"/>\r\n      </g>\r\n     </g>\r\n    </g>\r\n    <g id=\"ytick_5\">\r\n     <g id=\"line2d_11\">\r\n      <g>\r\n       <use style=\"stroke:#000000;stroke-width:0.8;\" x=\"33.2875\" xlink:href=\"#mf32e9171c8\" y=\"60.118182\"/>\r\n      </g>\r\n     </g>\r\n     <g id=\"text_11\">\r\n      <!-- 280 -->\r\n      <g transform=\"translate(7.2 63.917401)scale(0.1 -0.1)\">\r\n       <use xlink:href=\"#DejaVuSans-32\"/>\r\n       <use x=\"63.623047\" xlink:href=\"#DejaVuSans-38\"/>\r\n       <use x=\"127.246094\" xlink:href=\"#DejaVuSans-30\"/>\r\n      </g>\r\n     </g>\r\n    </g>\r\n    <g id=\"ytick_6\">\r\n     <g id=\"line2d_12\">\r\n      <g>\r\n       <use style=\"stroke:#000000;stroke-width:0.8;\" x=\"33.2875\" xlink:href=\"#mf32e9171c8\" y=\"20.583636\"/>\r\n      </g>\r\n     </g>\r\n     <g id=\"text_12\">\r\n      <!-- 300 -->\r\n      <defs>\r\n       <path d=\"M 40.578125 39.3125 \r\nQ 47.65625 37.796875 51.625 33 \r\nQ 55.609375 28.21875 55.609375 21.1875 \r\nQ 55.609375 10.40625 48.1875 4.484375 \r\nQ 40.765625 -1.421875 27.09375 -1.421875 \r\nQ 22.515625 -1.421875 17.65625 -0.515625 \r\nQ 12.796875 0.390625 7.625 2.203125 \r\nL 7.625 11.71875 \r\nQ 11.71875 9.328125 16.59375 8.109375 \r\nQ 21.484375 6.890625 26.8125 6.890625 \r\nQ 36.078125 6.890625 40.9375 10.546875 \r\nQ 45.796875 14.203125 45.796875 21.1875 \r\nQ 45.796875 27.640625 41.28125 31.265625 \r\nQ 36.765625 34.90625 28.71875 34.90625 \r\nL 20.21875 34.90625 \r\nL 20.21875 43.015625 \r\nL 29.109375 43.015625 \r\nQ 36.375 43.015625 40.234375 45.921875 \r\nQ 44.09375 48.828125 44.09375 54.296875 \r\nQ 44.09375 59.90625 40.109375 62.90625 \r\nQ 36.140625 65.921875 28.71875 65.921875 \r\nQ 24.65625 65.921875 20.015625 65.03125 \r\nQ 15.375 64.15625 9.8125 62.3125 \r\nL 9.8125 71.09375 \r\nQ 15.4375 72.65625 20.34375 73.4375 \r\nQ 25.25 74.21875 29.59375 74.21875 \r\nQ 40.828125 74.21875 47.359375 69.109375 \r\nQ 53.90625 64.015625 53.90625 55.328125 \r\nQ 53.90625 49.265625 50.4375 45.09375 \r\nQ 46.96875 40.921875 40.578125 39.3125 \r\nz\r\n\" id=\"DejaVuSans-33\"/>\r\n      </defs>\r\n      <g transform=\"translate(7.2 24.382855)scale(0.1 -0.1)\">\r\n       <use xlink:href=\"#DejaVuSans-33\"/>\r\n       <use x=\"63.623047\" xlink:href=\"#DejaVuSans-30\"/>\r\n       <use x=\"127.246094\" xlink:href=\"#DejaVuSans-30\"/>\r\n      </g>\r\n     </g>\r\n    </g>\r\n   </g>\r\n   <g id=\"line2d_13\">\r\n    <path clip-path=\"url(#pbc8e40dabc)\" d=\"M 48.505682 218.256364 \r\nL 352.869318 20.583636 \r\nL 200.6875 20.583636 \r\n\" style=\"fill:none;stroke:#1f77b4;stroke-linecap:square;stroke-width:1.5;\"/>\r\n   </g>\r\n   <g id=\"patch_3\">\r\n    <path d=\"M 33.2875 228.14 \r\nL 33.2875 10.7 \r\n\" style=\"fill:none;stroke:#000000;stroke-linecap:square;stroke-linejoin:miter;stroke-width:0.8;\"/>\r\n   </g>\r\n   <g id=\"patch_4\">\r\n    <path d=\"M 368.0875 228.14 \r\nL 368.0875 10.7 \r\n\" style=\"fill:none;stroke:#000000;stroke-linecap:square;stroke-linejoin:miter;stroke-width:0.8;\"/>\r\n   </g>\r\n   <g id=\"patch_5\">\r\n    <path d=\"M 33.2875 228.14 \r\nL 368.0875 228.14 \r\n\" style=\"fill:none;stroke:#000000;stroke-linecap:square;stroke-linejoin:miter;stroke-width:0.8;\"/>\r\n   </g>\r\n   <g id=\"patch_6\">\r\n    <path d=\"M 33.2875 10.7 \r\nL 368.0875 10.7 \r\n\" style=\"fill:none;stroke:#000000;stroke-linecap:square;stroke-linejoin:miter;stroke-width:0.8;\"/>\r\n   </g>\r\n  </g>\r\n </g>\r\n <defs>\r\n  <clipPath id=\"pbc8e40dabc\">\r\n   <rect height=\"217.44\" width=\"334.8\" x=\"33.2875\" y=\"10.7\"/>\r\n  </clipPath>\r\n </defs>\r\n</svg>\r\n",
      "image/png": "[encoded data removed]"
     },
     "metadata": {}
    }
   ],
   "source": [
    "# just to test if the graphing library is working\n",
    "plt.plot(open_prices,close_prices)"
   ]
  }
 ]
}